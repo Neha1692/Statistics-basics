{
  "nbformat": 4,
  "nbformat_minor": 0,
  "metadata": {
    "colab": {
      "provenance": []
    },
    "kernelspec": {
      "name": "python3",
      "display_name": "Python 3"
    },
    "language_info": {
      "name": "python"
    }
  },
  "cells": [
    {
      "cell_type": "code",
      "execution_count": null,
      "metadata": {
        "id": "BEFY8N1ZY19Y"
      },
      "outputs": [],
      "source": []
    },
    {
      "cell_type": "markdown",
      "source": [
        "Q-1 What is statistics, and why is it important?\n",
        "\n",
        "Ans-Statistics is a branch of mathematics dealing with data collection, analysis, interpretation, presentation, and organization. It is important because it provides tools for understanding and making informed decisions based on data.\n",
        "\n",
        "\n",
        "Q-2 What are the two main types of statistics?\n",
        "\n",
        "Ans-The main two types are descriptive and inferential statistics.\n",
        "\n",
        "Q-3 What are descriptive statistics?\n",
        "\n",
        "Ans-Descriptive statistics summarize and describe main features of dataset using measures like mean, median, mode, and standard deviation. They present data in an understandable way through charts, graphs, and tables.\n",
        "\n",
        "Q-4 What is inferential statistics?\n",
        "\n",
        "Ans-Inferential statistics use sample data to make inferences, predictions and generalizations about a larger population. Hypothesis testing and regression analysis are examples of inferential statistics.\n",
        "\n",
        "Q-5 What is sampling in statistics?\n",
        "\n",
        "Ans-Sampling is a process of selecting a subset of individuals or items from a larger population to estimate characteristics of the whole population.\n",
        "\n",
        "\n",
        "Q-6 What are the different types of sampling methods?\n",
        "\n",
        "Ans-Sampling methods include random sampling, stratified sampling, cluster sampling, and systematic sampling.\n",
        "\n",
        "Q-7 What is the difference between random and non-random sampling?\n",
        "\n",
        "Ans-In random sampling, every member of the population has an equal chance of being selected, while in non-random sampling, selection is based on other criteria, such as convenience or judgment.\n",
        "\n",
        "\n",
        "Q-8 Define and give examples of qualitative and quantitative data?\n",
        "\n",
        "Ans-Qualitative data is descriptive and non-numerical(e.g., colors,opinions).\n",
        "Quantitative data is numerical and can be measured (e.g., height,weight)\n",
        "\n",
        "Q-9 What are the different types of data in statistics?\n",
        "\n",
        "Ans-Types of data include nominal, ordinal, interval, and ratio data.\n",
        "\n",
        "\n",
        "Q-10 Explain nominal, ordinal, interval, and ratio levels of measurement?\n",
        "\n",
        "Ans-Nominal data is categorical with no order (e.g., gender). Ordinal data has a specific order but no consistent intervals (e.g., rankings). Interval data has consistent intervals but no true zero point (e.g. temperature in celsius). Ratio data has consistent intervals and a true zero point (e.g., height)\n",
        "\n",
        "Q-11 What is the measure of central tendency?\n",
        "\n",
        "Ans-Measure of central tendency describe the center of dataset.\n",
        "\n",
        "Q-12 Define mean, median, and mode?\n",
        "\n",
        "Ans-Mean is the average, median is the middle value, and mode is the most frequent value in dataset.\n",
        "\n",
        "Q-13 What is the significance of the measure of central tendency?\n",
        "\n",
        "Ans-It provides a summary of the typical value in a dataset and is useful for comparing different datasets.\n",
        "\n",
        "Q-14 What is variance, and how is it calculated?\n",
        "\n",
        "Ans-Variance measures the spread of data points around the mean. It is calculated by averaging the squared differences between each data point and the mean.\n",
        "\n",
        "Q-15 What is standard deviation, and why is it important?\n",
        "\n",
        "Ans-Standard deviation is the square root of the variance and measures the dispersion of data around the mean. It is important for understanding the variability in a dataset.\n",
        "\n",
        "Q-16 Define and explain the term range in statistics?\n",
        "\n",
        "Ans-Range is the difference between the maximum and minimum values in a dataset.\n",
        "\n",
        "Q-17 What is the difference between variance and standard deviation?\n",
        "\n",
        "Ans-Standard deviation is the square root of variance. Standard deviation is in the original units of the data, making it more interpretable, while variance is in squared units.\n",
        "\n",
        "\n",
        "Q-18 What is skewness in a dataset?\n",
        "\n",
        "Ans-Skewness measures the asymmetry of a distribution.\n",
        "\n",
        "Q-19 What does it mean if a dataset is positively or negatively skewed?\n",
        "\n",
        "Ans-Positive skewness means the tail is longer on the right side, and negative skewness means the tail is longer on the left side.\n",
        "\n",
        "Q-20 Define and explain kurtosis?\n",
        "\n",
        "Ans-Kurtosis measures the \"tailedness\" of a distribution, indicating the presence of outliers.\n",
        "\n",
        "\n",
        "Q-21 What is the purpose of covariance?\n",
        "\n",
        "Ans-Covariance measures how two variables change together.\n",
        "\n",
        "Q-22 What does correlation measure in statistics?\n",
        "\n",
        "Ans-Correlation measures the strength and direction of a linear relationship between two variables.\n",
        "\n",
        "Q-23 What is the difference between covariance and correlation?\n",
        "\n",
        "Ans-Correlation is a standarized version of covariance making it easier to compare relationships across different scales.\n",
        "\n",
        "Q-24 What are some real-world applications of statistics?\n",
        "\n",
        "Ans-Statistics is used in various fields, including healthcare, business, economics, social sciences, and engineering, for data analysis, research, and decision-making."
      ],
      "metadata": {
        "id": "m80VOyxWZB7h"
      }
    },
    {
      "cell_type": "code",
      "source": [
        "# 1. How do you calculate the mean, median, and mode of a dataset?\n",
        "#Mean\n",
        "age=[26,22,34,35]\n"
      ],
      "metadata": {
        "id": "gEBUEN3nvkUo"
      },
      "execution_count": 1,
      "outputs": []
    },
    {
      "cell_type": "code",
      "source": [
        "(26+22+34+35)/4"
      ],
      "metadata": {
        "colab": {
          "base_uri": "https://localhost:8080/"
        },
        "id": "w8nn-Q8exC-9",
        "outputId": "deeee695-e6e8-48be-9d59-53d163aa843d"
      },
      "execution_count": 2,
      "outputs": [
        {
          "output_type": "execute_result",
          "data": {
            "text/plain": [
              "29.25"
            ]
          },
          "metadata": {},
          "execution_count": 2
        }
      ]
    },
    {
      "cell_type": "code",
      "source": [
        "import numpy as np\n",
        "np.mean(age)\n"
      ],
      "metadata": {
        "colab": {
          "base_uri": "https://localhost:8080/"
        },
        "id": "ey_ZPBOSxMI3",
        "outputId": "50c9f5cc-3923-48c4-fae7-e9b4de91fad9"
      },
      "execution_count": 3,
      "outputs": [
        {
          "output_type": "execute_result",
          "data": {
            "text/plain": [
              "np.float64(29.25)"
            ]
          },
          "metadata": {},
          "execution_count": 3
        }
      ]
    },
    {
      "cell_type": "code",
      "source": [
        "#median\n",
        "nos = [26,22,34,35]\n",
        "np.median(nos)"
      ],
      "metadata": {
        "colab": {
          "base_uri": "https://localhost:8080/"
        },
        "id": "WN7d6Bu0xz-I",
        "outputId": "75596aa1-786f-4309-d6aa-f3ee6a62d4ab"
      },
      "execution_count": 4,
      "outputs": [
        {
          "output_type": "execute_result",
          "data": {
            "text/plain": [
              "np.float64(30.0)"
            ]
          },
          "metadata": {},
          "execution_count": 4
        }
      ]
    },
    {
      "cell_type": "code",
      "source": [
        "#mode\n",
        "nos = [4,2,2,3,5,5,6,6,6]"
      ],
      "metadata": {
        "id": "bJFBnAWUx7lJ"
      },
      "execution_count": 6,
      "outputs": []
    },
    {
      "cell_type": "code",
      "source": [
        "import statistics as stat\n",
        "stat.mode(nos)\n"
      ],
      "metadata": {
        "colab": {
          "base_uri": "https://localhost:8080/"
        },
        "id": "07o3ZZVEyRAo",
        "outputId": "c8c7e555-4af2-4a08-a468-43f248361336"
      },
      "execution_count": 7,
      "outputs": [
        {
          "output_type": "execute_result",
          "data": {
            "text/plain": [
              "6"
            ]
          },
          "metadata": {},
          "execution_count": 7
        }
      ]
    },
    {
      "cell_type": "code",
      "source": [
        "# 2.  Write a Python program to compute the variance and standard deviation of a dataset.\n",
        "data = [2, 3, 4, 5, 8, 9, 12, 40, 41, 15]\n",
        "data"
      ],
      "metadata": {
        "colab": {
          "base_uri": "https://localhost:8080/"
        },
        "id": "vFPXDxVsyb6J",
        "outputId": "156e6cb2-628e-4581-f1fe-ac3eb342cf11"
      },
      "execution_count": 9,
      "outputs": [
        {
          "output_type": "execute_result",
          "data": {
            "text/plain": [
              "[2, 3, 4, 5, 8, 9, 12, 40, 41, 15]"
            ]
          },
          "metadata": {},
          "execution_count": 9
        }
      ]
    },
    {
      "cell_type": "code",
      "source": [
        "# variance\n",
        "np.var(data)"
      ],
      "metadata": {
        "colab": {
          "base_uri": "https://localhost:8080/"
        },
        "id": "BBaQDAtOzPou",
        "outputId": "a2b19228-345b-4efc-c549-1cbba8bb45c5"
      },
      "execution_count": 10,
      "outputs": [
        {
          "output_type": "execute_result",
          "data": {
            "text/plain": [
              "np.float64(191.69000000000003)"
            ]
          },
          "metadata": {},
          "execution_count": 10
        }
      ]
    },
    {
      "cell_type": "code",
      "source": [
        "# standard deviation\n",
        "np.std(data)"
      ],
      "metadata": {
        "colab": {
          "base_uri": "https://localhost:8080/"
        },
        "id": "huf7bmzpzT9P",
        "outputId": "e3049def-8703-4a49-8142-0d3a919bc41b"
      },
      "execution_count": 11,
      "outputs": [
        {
          "output_type": "execute_result",
          "data": {
            "text/plain": [
              "np.float64(13.8452157801892)"
            ]
          },
          "metadata": {},
          "execution_count": 11
        }
      ]
    },
    {
      "cell_type": "code",
      "source": [
        "# 3 Create a dataset and classify it into nominal, ordinal, interval, and ratio types\n",
        "\n",
        "dataset = {\n",
        "             \"nominal\": [\"red\", \"blue\", \"green\"],\n",
        "             \"ordinal\": [\"low\", \"medium\", \"high\"],\n",
        "             \"interval\": [20, 30, 40],\n",
        "             \"ratio\": [10, 20, 30]\n",
        "         }\n",
        ""
      ],
      "metadata": {
        "id": "jhJt8DMv2S0i"
      },
      "execution_count": 18,
      "outputs": []
    },
    {
      "cell_type": "code",
      "source": [
        "print(dataset)"
      ],
      "metadata": {
        "colab": {
          "base_uri": "https://localhost:8080/"
        },
        "id": "UkXyTzIG3LRT",
        "outputId": "91dc121d-6721-4eb6-e440-ff8ed775d100"
      },
      "execution_count": 19,
      "outputs": [
        {
          "output_type": "stream",
          "name": "stdout",
          "text": [
            "{'nominal': ['red', 'blue', 'green'], 'ordinal': ['low', 'medium', 'high'], 'interval': [20, 30, 40], 'ratio': [10, 20, 30]}\n"
          ]
        }
      ]
    },
    {
      "cell_type": "code",
      "source": [
        "#4 Implement sampling techniques like random sampling and stratified sampling.\n",
        "\n",
        "import random\n",
        "def random_sampling(data, sample_size):\n",
        "    return random.sample(data, sample_size)\n",
        ""
      ],
      "metadata": {
        "id": "xJfmJ9Zk3QNX"
      },
      "execution_count": 20,
      "outputs": []
    },
    {
      "cell_type": "code",
      "source": [
        "data = list(range(1, 101))\n",
        "sample_size = 10\n",
        "sample = random_sampling(data, sample_size)\n",
        "print(sample)"
      ],
      "metadata": {
        "colab": {
          "base_uri": "https://localhost:8080/"
        },
        "id": "mGRHsSGW4X5Y",
        "outputId": "857163f0-ee43-4809-e422-56e5470944b0"
      },
      "execution_count": 21,
      "outputs": [
        {
          "output_type": "stream",
          "name": "stdout",
          "text": [
            "[54, 88, 44, 35, 10, 78, 96, 49, 81, 37]\n"
          ]
        }
      ]
    },
    {
      "cell_type": "code",
      "source": [
        "#stratified sampling\n",
        "import random\n",
        "data_strata = {\n",
        "    \"A\": [1, 2, 3, 4, 5],\n",
        "    \"B\": [6, 7, 8, 9, 10],\n",
        "}\n",
        "strata = [\"A\", \"B\"]\n",
        "sample_size_per_strata = 2\n",
        "sample = []\n",
        "for s in strata:\n",
        "    sample.extend(random.sample(data_strata[s], sample_size_per_strata))\n",
        "print(sample)"
      ],
      "metadata": {
        "colab": {
          "base_uri": "https://localhost:8080/"
        },
        "id": "GW1Mvu7B4d5k",
        "outputId": "a5d1987a-3a81-48f5-9966-df1f5daa2e44"
      },
      "execution_count": 22,
      "outputs": [
        {
          "output_type": "stream",
          "name": "stdout",
          "text": [
            "[1, 4, 6, 8]\n"
          ]
        }
      ]
    },
    {
      "cell_type": "code",
      "source": [
        "# 5 Write a Python function to calculate the range of a dataset.\n",
        "data = [2, 3, 4, 5, 8, 9, 12, 40, 41, 15]\n",
        "data\n"
      ],
      "metadata": {
        "colab": {
          "base_uri": "https://localhost:8080/"
        },
        "id": "6adjN8AK5Cxx",
        "outputId": "766917a8-567b-4229-fb3a-95d0be83cb89"
      },
      "execution_count": 23,
      "outputs": [
        {
          "output_type": "execute_result",
          "data": {
            "text/plain": [
              "[2, 3, 4, 5, 8, 9, 12, 40, 41, 15]"
            ]
          },
          "metadata": {},
          "execution_count": 23
        }
      ]
    },
    {
      "cell_type": "code",
      "source": [
        "range = max(data) - min(data)\n",
        "range"
      ],
      "metadata": {
        "colab": {
          "base_uri": "https://localhost:8080/"
        },
        "id": "9BXxz7JY5RsV",
        "outputId": "b17586a9-c1e5-4e25-c482-22059c6c577d"
      },
      "execution_count": 24,
      "outputs": [
        {
          "output_type": "execute_result",
          "data": {
            "text/plain": [
              "39"
            ]
          },
          "metadata": {},
          "execution_count": 24
        }
      ]
    },
    {
      "cell_type": "code",
      "source": [
        "# 6 Create a dataset and plot its histogram to visualize skewness.\n",
        "import matplotlib.pyplot as plt\n",
        "data = [2, 3, 4, 5, 8, 9, 12, 40, 41, 15]\n",
        "plt.hist(data)\n",
        "plt.show()"
      ],
      "metadata": {
        "colab": {
          "base_uri": "https://localhost:8080/",
          "height": 430
        },
        "id": "9cnTQv835WL2",
        "outputId": "b5debcc6-1289-4dfb-a570-e26157222a7c"
      },
      "execution_count": 25,
      "outputs": [
        {
          "output_type": "display_data",
          "data": {
            "text/plain": [
              "<Figure size 640x480 with 1 Axes>"
            ],
            "image/png": "[encoded data removed]"
          },
          "metadata": {}
        }
      ]
    },
    {
      "cell_type": "code",
      "source": [
        "# 7 Calculate skewness and kurtosis of a dataset using Python libraries.\n",
        "import numpy as np\n",
        "from scipy.stats import kurtosis, skew\n",
        "data = [2, 3, 4, 5, 8, 9, 12, 40, 41, 15]\n",
        "skew = skew(data)\n",
        "kurtosis = kurtosis(data)\n",
        "print(\"Skewness:\", skew)\n",
        "print(\"Kurtosis:\", kurtosis)\n"
      ],
      "metadata": {
        "colab": {
          "base_uri": "https://localhost:8080/"
        },
        "id": "pPVLUVZW5ctx",
        "outputId": "9ef31a7c-65d6-4bf2-bc00-86bead821137"
      },
      "execution_count": 27,
      "outputs": [
        {
          "output_type": "stream",
          "name": "stdout",
          "text": [
            "Skewness: 1.2320350579023576\n",
            "Kurtosis: -0.1281654486302446\n"
          ]
        }
      ]
    },
    {
      "cell_type": "code",
      "source": [
        "# 8 Generate a dataset and demonstrate positive and negative skewness.\n",
        "import numpy as np\n",
        "data = np.random.normal(0, 1, 1000)\n",
        "data"
      ],
      "metadata": {
        "colab": {
          "base_uri": "https://localhost:8080/"
        },
        "id": "YxJdsCNd5-w1",
        "outputId": "c7af36d0-351b-41d1-8901-b1ca1aa83b95"
      },
      "execution_count": 28,
      "outputs": [
        {
          "output_type": "execute_result",
          "data": {
            "text/plain": [
              "array([ 1.09350498e-01,  4.56833157e-01, -5.19345385e-01, -7.83132500e-01,\n",
              "        1.46321960e+00, -1.15159672e+00,  7.22974303e-01,  1.09868293e+00,\n",
              "        2.21221989e+00,  1.92011427e+00,  4.88517338e-01, -8.61491548e-01,\n",
              "        1.32730760e+00,  1.60455964e-01, -8.01642225e-01,  5.94019951e-01,\n",
              "       -3.16610404e-01, -1.87796854e+00, -2.06686136e+00, -7.67567372e-01,\n",
              "        1.07364002e-01,  5.32069403e-01,  7.17597404e-01, -5.16465426e-01,\n",
              "        5.23413594e-01, -1.68383104e+00, -8.16261395e-01,  5.92999994e-02,\n",
              "       -1.76708705e+00,  4.64668608e-01, -1.36865804e+00,  1.31882618e+00,\n",
              "        3.00670022e-01, -1.88153923e+00, -3.78790035e-01, -1.68371261e+00,\n",
              "        6.20490466e-02, -1.35553341e+00,  5.07982353e-01,  1.61434691e+00,\n",
              "        1.65183610e-02, -1.66721133e-01,  1.43428527e+00, -1.64937693e-01,\n",
              "       -1.07722346e-01,  1.24730697e+00,  1.66792125e-01,  1.44197101e+00,\n",
              "       -3.94187853e-01,  3.70172271e-01,  2.80358517e-01, -7.65824167e-01,\n",
              "       -7.69821567e-01, -1.02631936e+00,  1.90706538e-01,  1.36823422e+00,\n",
              "       -2.91348611e-01, -7.86595375e-01,  2.37620137e-01, -6.26999444e-01,\n",
              "        5.34706819e-01,  9.62086964e-01, -2.41399152e+00, -7.40313888e-01,\n",
              "       -1.31805496e-01,  1.74086190e+00,  2.84342827e-01, -7.99525292e-02,\n",
              "        1.27552224e-01, -9.60011605e-01, -4.31062212e-01, -9.30020029e-01,\n",
              "       -8.25045277e-01,  8.72853251e-01, -1.30863189e+00, -1.05201410e+00,\n",
              "        8.57280196e-01,  3.62857127e-01,  9.40059034e-02,  2.10368898e-01,\n",
              "       -1.38992387e-01, -5.03616394e-01, -7.52180386e-01,  2.77662901e+00,\n",
              "        1.26837330e+00,  1.46567866e+00, -8.79524441e-02, -2.92052239e+00,\n",
              "       -1.57375221e+00, -1.32729774e+00,  1.03752246e+00, -1.96367765e+00,\n",
              "        5.96746977e-01, -1.64391546e+00,  1.62768045e+00, -9.18368149e-01,\n",
              "       -2.31145703e+00, -1.85046757e+00, -2.40982957e+00, -1.10115676e+00,\n",
              "        2.52862814e-01,  8.39362638e-01,  5.33303252e-01,  6.94573623e-01,\n",
              "        1.32583838e+00, -4.83288948e-01,  2.80599874e-01,  5.14907467e-01,\n",
              "        1.87234990e-02,  2.54932556e+00, -7.65920415e-01,  4.22880255e-01,\n",
              "       -8.45168020e-01,  3.55267201e-01, -1.12505364e+00,  1.38402794e-01,\n",
              "        3.04894021e-01, -7.05171716e-01,  9.57714158e-01, -4.57168075e-01,\n",
              "        1.53365885e-01,  2.92937342e-01,  5.97440464e-01, -1.66266668e+00,\n",
              "       -1.37995233e-01,  7.04359373e-02, -8.14125318e-01,  5.34528536e-01,\n",
              "       -2.01090056e-01,  4.76038368e-01, -1.22333571e-01,  1.84622269e+00,\n",
              "        9.48169600e-01, -5.06416896e-01,  3.35054265e-01,  1.27157331e-01,\n",
              "       -8.89347667e-03,  2.30234847e-01, -2.21962224e-01,  7.90287275e-01,\n",
              "        1.51489691e-01,  8.51480033e-01,  8.88646602e-01,  7.47409510e-01,\n",
              "        1.60349020e+00, -1.03079838e+00,  1.06505945e+00, -5.10548656e-01,\n",
              "        3.50422772e-01, -6.69712760e-02, -2.85489414e-01, -1.44981062e-01,\n",
              "        3.38082508e-01,  1.10424894e+00, -5.79942211e-01,  3.03925729e+00,\n",
              "       -7.72860536e-01, -2.60922146e-01, -1.00251933e-02, -1.49716846e-02,\n",
              "       -1.26189717e+00, -1.17933651e+00, -7.43637900e-01,  5.15983442e-01,\n",
              "       -1.74409091e+00,  4.37167297e-01, -1.41487263e+00, -1.11873293e+00,\n",
              "        1.53459703e+00,  4.30580900e-01, -8.69387683e-02,  1.13349357e+00,\n",
              "        5.20100706e-01, -8.67178201e-01,  1.64643222e-01,  1.47159330e-01,\n",
              "       -1.40413286e+00,  7.18070322e-01,  5.70821005e-01, -1.79333604e+00,\n",
              "       -9.94529542e-01, -2.01546950e+00,  1.91527769e+00,  3.35062775e-01,\n",
              "        1.55944193e+00, -6.35686567e-03, -3.84044114e-01,  1.26055010e+00,\n",
              "       -3.14881818e-01,  1.08627201e+00,  6.57243915e-01, -1.78655560e+00,\n",
              "       -1.64699148e+00,  8.43272165e-01,  2.89298160e-02, -3.72818647e-01,\n",
              "       -6.77594505e-01, -1.15407638e+00,  1.53323546e+00,  1.80742489e+00,\n",
              "        2.28748874e-01, -1.17911858e+00, -6.97502247e-01, -2.89420847e-01,\n",
              "       -2.69557340e-01, -1.88658515e-01,  1.98563879e-01, -2.10964878e-01,\n",
              "       -8.35865622e-01,  9.18060579e-01, -1.14778878e+00,  1.28776956e+00,\n",
              "       -6.41240250e-02, -2.51115422e-01,  1.59251873e+00, -1.88888399e-01,\n",
              "        1.04290174e+00,  1.27970491e+00,  2.02360584e+00, -1.48456314e+00,\n",
              "        1.04431950e+00, -3.72519180e-01, -9.81462969e-01,  6.25530807e-02,\n",
              "       -8.40104033e-02, -1.64506065e+00,  6.34032343e-01, -8.11311633e-01,\n",
              "        1.02619849e+00,  9.08597357e-02, -1.57329443e+00,  3.95327874e-01,\n",
              "       -6.63333427e-01,  8.79768363e-01, -2.19832036e-02,  1.99513444e+00,\n",
              "        1.50199114e+00, -1.71178921e+00, -1.48271025e-01, -1.50761260e+00,\n",
              "        7.44065538e-01,  1.02960184e+00,  2.90607445e-01, -1.87148873e-01,\n",
              "        8.39264093e-01, -7.71250818e-01, -2.00959690e+00,  9.52281405e-01,\n",
              "       -5.68736194e-01, -9.02467640e-01,  1.77938721e-01, -3.86867869e-01,\n",
              "        1.01143653e+00, -1.58195080e+00, -2.85462160e-01, -2.10449929e-01,\n",
              "        7.72451330e-01, -3.16425680e-01, -7.44933452e-01,  1.62826360e-01,\n",
              "       -7.04686010e-01,  1.50838714e+00,  3.53986124e-01,  8.48499255e-01,\n",
              "        1.75310504e-01,  1.57384089e+00,  1.71867606e-01,  1.32396108e+00,\n",
              "        1.53614068e+00,  1.52000785e+00,  1.40651333e+00, -1.35701686e+00,\n",
              "        1.99262989e+00,  3.32229697e-01, -4.47236099e-01,  1.13811983e-01,\n",
              "       -1.19649766e+00,  5.61582986e-01, -4.60380572e-01,  1.15089089e+00,\n",
              "        1.18580240e+00, -3.20186571e-01, -3.13472995e-01,  6.66076024e-01,\n",
              "        8.12761180e-01,  2.01658089e+00,  1.89355634e-01, -2.17123207e-01,\n",
              "        7.65112788e-02,  8.48966182e-01, -8.61810617e-01,  1.05790021e-01,\n",
              "        1.94355558e-01,  2.66569166e-01, -2.09286916e+00, -1.91322134e+00,\n",
              "       -1.71959397e+00,  7.50161767e-01, -1.41908794e-01,  4.09148932e-01,\n",
              "        8.22245012e-01, -4.86643908e-01, -4.29463294e-01, -9.96484091e-01,\n",
              "       -2.04883987e+00, -4.60188467e-01,  2.55878574e-01,  5.07568924e-01,\n",
              "       -4.84931917e-01,  9.14469027e-01,  1.19596221e+00, -5.67029318e-01,\n",
              "       -6.32956481e-01,  1.49370905e-01, -8.64151906e-01, -7.05517260e-01,\n",
              "        7.00651235e-01,  3.89082180e-01, -7.91201014e-01, -2.39688432e-01,\n",
              "       -1.12651371e+00,  1.19887233e+00, -1.16872849e+00, -1.56260918e+00,\n",
              "        6.22597972e-01, -7.01222334e-01,  1.51456454e+00, -8.03767640e-01,\n",
              "        7.47401832e-01, -1.30053557e+00,  1.25853092e+00, -3.57541702e-01,\n",
              "       -6.63743627e-02, -2.19298596e+00,  7.92217724e-01, -4.03725144e-01,\n",
              "       -1.53550173e-01, -8.30881423e-01,  1.17785286e+00, -1.15356731e+00,\n",
              "       -2.51853679e+00, -2.52580773e-01,  1.14397946e-01,  7.02898842e-01,\n",
              "       -1.97139227e-01, -4.71332509e-01, -1.24856078e+00,  2.20121279e-01,\n",
              "        2.06339088e-02,  7.65062892e-01,  8.60454896e-01,  7.67681153e-01,\n",
              "       -6.11909460e-01,  3.24845900e-01,  1.42235892e-02,  7.40966335e-01,\n",
              "       -2.64140567e-01,  5.84607415e-01,  4.03518053e-01,  2.12181706e-02,\n",
              "        7.46883967e-01,  1.40002325e+00,  8.68896718e-01, -5.65504935e-01,\n",
              "       -7.60835281e-02,  1.06859768e+00, -1.19684788e+00, -7.00317813e-01,\n",
              "       -7.95888271e-03, -5.17096758e-01,  1.19540758e+00,  1.60211334e-01,\n",
              "        9.42444553e-01,  4.21131939e-01, -5.17869213e-01, -1.56956653e+00,\n",
              "        5.84040514e-01, -2.78062054e+00,  7.22269651e-01,  5.29422597e-01,\n",
              "       -1.38823630e+00, -1.54675118e+00,  5.92915285e-02,  1.03685038e+00,\n",
              "       -8.19273060e-01,  1.47876512e+00,  1.04091737e+00, -1.10300194e+00,\n",
              "        1.37622146e-01,  1.07549820e+00,  1.24021307e+00,  1.51051264e+00,\n",
              "        6.95250180e-01, -1.29611417e+00, -1.13131668e+00,  1.79645774e+00,\n",
              "       -2.91536466e-01, -1.51389968e-01, -1.26341191e-02, -6.59503363e-01,\n",
              "       -5.02119046e-02,  6.19351102e-01,  6.04764598e-01,  5.07678867e-01,\n",
              "       -1.52551285e+00,  1.47075913e-01,  1.64732407e+00, -5.19965043e-01,\n",
              "        9.78127357e-02,  1.76108960e-01, -2.05887695e+00, -2.20521227e-01,\n",
              "        1.38578691e+00,  1.57460932e+00,  4.78513705e-02,  1.32109008e+00,\n",
              "        6.72474253e-02,  1.48066360e+00, -1.70059469e+00, -1.59322310e+00,\n",
              "       -8.64962990e-01,  2.04956672e-01,  4.23540126e-01, -4.09875090e-01,\n",
              "       -5.94787301e-01,  2.34790037e+00, -2.30750395e-01, -4.29861738e-01,\n",
              "       -8.89625932e-01, -4.80166521e-01,  6.51548830e-01,  1.54132883e+00,\n",
              "       -1.15059515e+00,  1.57239787e+00, -5.59082823e-01,  7.36327911e-01,\n",
              "       -9.13173760e-01,  6.55529130e-01, -1.91551206e-01, -1.28586860e+00,\n",
              "       -7.72616666e-01, -1.03688156e+00, -9.81185072e-01, -2.54447632e-01,\n",
              "        1.73218218e-01, -1.33153346e+00, -1.75799776e-01, -6.29144332e-01,\n",
              "        3.42028131e-01,  8.17182771e-01, -4.63498106e-01, -8.66205982e-01,\n",
              "       -1.57161307e+00, -8.48414707e-01,  1.05367114e-01, -8.61507516e-01,\n",
              "       -7.58883447e-01, -3.66406865e-01,  3.84777047e-01,  2.17868881e-01,\n",
              "        5.01324228e-01, -2.10032464e+00,  3.33947081e-01, -9.38906029e-01,\n",
              "        3.09057090e+00, -1.90808573e-01,  1.40386709e+00, -7.08781885e-03,\n",
              "       -1.61151876e+00,  2.02635331e+00, -9.48843608e-01, -6.30656142e-01,\n",
              "        4.13353761e-01,  7.06891224e-02,  5.27373593e-01,  8.38193074e-01,\n",
              "        1.08085256e-01,  6.87687254e-01, -1.44159575e+00,  8.83020121e-02,\n",
              "       -3.15726386e-02, -1.42265832e-02, -1.72402915e-01, -5.19656994e-01,\n",
              "       -1.61774228e-02, -7.97620273e-01,  1.36884676e+00, -1.51481448e+00,\n",
              "        4.19406041e-01, -1.24984994e+00,  7.11309793e-01,  2.29855574e-01,\n",
              "       -4.44817098e-01,  7.87066742e-01, -7.31630876e-01, -4.04778332e-01,\n",
              "       -1.54893591e+00, -3.63274825e-01, -4.21197632e-01,  9.33038026e-02,\n",
              "        7.06140012e-01, -5.37729253e-02, -5.57849586e-01, -1.39009877e+00,\n",
              "        1.02278600e+00,  7.88651040e-01,  7.91308196e-02,  7.53041454e-02,\n",
              "        2.34011301e+00, -1.25847705e+00,  3.57312179e-01, -1.11241173e+00,\n",
              "        1.71140684e-02, -1.99443147e-01,  1.29999735e+00,  1.97553362e+00,\n",
              "       -1.93692846e-01, -5.43161500e-01, -1.98610265e-01,  1.24125683e+00,\n",
              "       -2.93099611e-01, -7.20958479e-01, -2.38110739e-01, -1.10547440e+00,\n",
              "        2.04271494e-01, -5.55949575e-03,  7.47593024e-01, -1.13009128e-01,\n",
              "       -1.15104369e+00,  2.29208995e+00, -1.51273837e+00,  1.08157499e+00,\n",
              "       -5.77772238e-01, -5.59037830e-01, -1.46262831e-01, -1.18002409e+00,\n",
              "       -2.24507738e-01,  1.63454778e+00, -1.48032937e-01,  8.99720544e-01,\n",
              "       -2.00350948e+00,  7.06303419e-01,  5.72919782e-01,  5.28330484e-01,\n",
              "       -5.90061678e-03, -1.18404353e+00, -6.88016847e-01,  1.24657047e+00,\n",
              "       -5.01454005e-01,  1.34103493e-01,  1.26225596e+00, -9.32833650e-01,\n",
              "        7.92126606e-01, -3.96883636e-01,  3.00803185e-01, -1.99413996e+00,\n",
              "       -2.85935115e-01,  3.53442602e-01, -2.36331368e-01,  5.44893945e-01,\n",
              "        3.85360182e-01,  9.55216205e-01, -3.80130047e-01,  2.47839137e+00,\n",
              "        5.80188005e-01, -4.32936892e-01, -1.32892460e+00,  1.33980660e+00,\n",
              "       -1.45981967e-01,  5.75725621e-01, -5.06318338e-01, -5.17984795e-01,\n",
              "       -7.59123945e-01,  9.67459258e-01,  1.59692929e-01, -2.01468097e-01,\n",
              "        2.45306740e-01,  7.24681260e-01,  1.25088199e+00, -1.30685816e+00,\n",
              "        3.75692308e-01, -2.73752138e-01,  8.20832482e-02,  4.37571840e-01,\n",
              "        1.61964275e+00, -7.29284858e-01, -1.21368430e-01,  1.27086168e+00,\n",
              "       -6.48846389e-02,  9.97188173e-01, -1.00399039e+00, -1.35069105e+00,\n",
              "        9.66005193e-01, -3.96642140e-01,  1.26504343e-02,  2.00165025e-01,\n",
              "        8.02821490e-01, -6.28554376e-01, -9.93707558e-01,  2.19038237e-01,\n",
              "       -4.60837126e-01, -1.58037412e-01,  2.22368873e+00,  1.98852167e+00,\n",
              "        1.09215791e+00,  7.38711473e-01,  4.58225215e-01,  8.47737846e-02,\n",
              "       -1.39781251e+00,  1.44185431e+00,  1.01363121e-01,  4.25182285e-01,\n",
              "       -5.70074927e-01,  3.44930763e+00,  1.37249309e+00,  2.34249702e-01,\n",
              "       -8.73556335e-02, -7.16907799e-01,  1.78911020e+00,  1.18238962e+00,\n",
              "        2.79436681e-01, -1.29365624e-01, -2.36803914e-01, -1.49299131e-02,\n",
              "       -1.03323019e+00,  6.34409160e-01,  5.91805303e-01,  3.55750325e-01,\n",
              "       -8.43396750e-01,  4.58394338e-01,  1.43958813e+00,  7.36395048e-01,\n",
              "        1.18455084e+00, -7.00278141e-01,  4.00020131e-01, -1.97069574e-02,\n",
              "        1.51653283e+00, -8.79136155e-01,  8.06413922e-01, -3.53282889e-01,\n",
              "       -4.43118842e-01, -5.98621347e-04, -1.01848894e-01,  1.87184042e-01,\n",
              "        1.12774994e+00,  4.35639503e-01,  1.09363672e+00,  4.18121537e-01,\n",
              "        7.90103771e-01,  2.68301964e+00,  4.57272505e-01, -7.17172199e-02,\n",
              "       -3.19443429e-01,  1.07481207e+00,  2.02141410e+00,  7.24343732e-01,\n",
              "        1.18430423e+00, -1.80660274e+00, -1.00258073e+00,  1.91515468e+00,\n",
              "        2.09629249e+00,  1.07676220e+00, -1.54787317e+00, -5.37040407e-01,\n",
              "       -1.10123682e+00,  1.20003024e-01,  6.44621214e-01,  2.20087508e+00,\n",
              "        2.38217474e-01,  5.68935756e-01, -7.36598124e-01, -1.47740227e-01,\n",
              "       -1.11007916e+00, -6.12924822e-01,  2.23323125e-01,  1.09818689e-01,\n",
              "       -5.99334261e-01,  5.15353099e-01, -1.98283071e+00,  1.16342181e+00,\n",
              "        1.00707799e+00,  1.79625837e+00,  2.47535677e+00, -8.34094535e-01,\n",
              "       -8.35403892e-01,  2.07788774e+00,  7.09449350e-01, -9.26822892e-01,\n",
              "       -9.42599842e-01,  6.16861816e-01, -1.16185436e+00,  9.31196465e-01,\n",
              "       -3.84997148e-01,  7.79145714e-01,  2.99612900e-01, -5.05384336e-01,\n",
              "        4.03881740e-01, -8.81141158e-01, -2.59884374e+00,  1.09750921e+00,\n",
              "       -2.61773443e+00,  4.51164332e-01,  8.76663249e-01,  6.73752206e-01,\n",
              "       -3.35050010e-01,  4.69182412e-01, -9.02715982e-01, -7.20166265e-01,\n",
              "       -8.81838906e-02, -2.66244761e-01,  8.37034198e-01,  1.10239319e+00,\n",
              "        5.10022698e-01, -4.66330269e-01,  6.53276263e-01,  1.01065562e+00,\n",
              "       -7.81260436e-01, -2.00516229e-01,  8.70166228e-01, -1.15119180e-01,\n",
              "       -3.63063631e-01, -1.55397567e+00,  3.72178473e-01, -2.62440191e+00,\n",
              "       -6.87043794e-01,  1.03786850e+00, -1.45394735e+00, -3.11783043e-02,\n",
              "       -5.14267989e-01, -1.98915679e+00,  1.52257887e+00,  8.14078165e-01,\n",
              "        2.71523221e-01,  9.29497829e-01, -7.27526576e-01,  1.55457886e-01,\n",
              "       -2.22478300e+00, -4.65964631e-01,  2.60115821e+00, -5.91607965e-01,\n",
              "       -1.17618498e+00, -2.24071391e-01, -1.59536555e+00,  2.70286569e-01,\n",
              "        8.78344085e-01,  9.06830224e-01, -3.21856744e-01, -8.37469999e-01,\n",
              "       -1.43234264e+00,  7.93530809e-01,  2.26223379e-01, -1.68206235e+00,\n",
              "        1.00523285e+00,  1.82445002e-01, -5.58705127e-01, -5.66461735e-01,\n",
              "        2.86886066e-01, -3.06591039e-01, -1.03230227e-01, -6.84137705e-01,\n",
              "       -1.02776577e+00, -6.95630988e-01, -1.18156287e-01, -9.94654064e-01,\n",
              "       -1.11423597e+00,  8.02133491e-01, -3.08780020e+00, -2.64974498e-01,\n",
              "        1.07311705e+00,  1.14337076e+00, -4.56921137e-01, -4.89772427e-02,\n",
              "        3.30791654e-01, -1.09942842e+00, -1.04721753e+00,  1.53509083e+00,\n",
              "        7.05030166e-01, -7.62618539e-01, -1.17310451e+00, -9.83081216e-01,\n",
              "        1.12104955e+00, -2.26038309e+00,  9.69653812e-01,  8.37090201e-01,\n",
              "       -9.26942097e-01,  3.94445113e-01, -8.98459546e-01,  2.03436020e-02,\n",
              "        4.96438147e-01,  6.54618702e-01, -1.60786031e+00,  6.53320499e-02,\n",
              "       -1.39092631e+00,  1.36433945e+00, -2.23049825e+00, -1.65638839e+00,\n",
              "        9.05367159e-01, -8.18135952e-01, -1.91959141e+00, -1.24646801e+00,\n",
              "        1.53942544e+00, -1.30048635e+00, -2.59290261e-01, -6.83132143e-01,\n",
              "        2.00199451e-02,  4.49841506e-01, -7.29497839e-02, -4.38273369e-02,\n",
              "       -6.68190581e-01,  3.10381137e-01,  8.45026310e-01, -1.10507390e+00,\n",
              "        7.02417067e-01,  1.01341527e+00, -1.14594169e+00,  9.74694820e-01,\n",
              "       -8.90695887e-01, -1.43869571e+00, -7.37119641e-01, -5.32109423e-01,\n",
              "        6.24375028e-01, -1.21697283e+00, -1.00254063e+00, -1.30472577e+00,\n",
              "       -4.18249930e-02, -1.04084403e+00, -4.93354653e-01, -2.25927545e-01,\n",
              "        6.66742682e-03,  7.15121515e-01, -3.84116380e-01,  5.64764557e-01,\n",
              "        3.93812815e-02, -4.99708348e-01,  3.16315553e+00,  2.53924684e-01,\n",
              "        1.45521917e+00,  9.43693165e-01, -8.81575669e-01, -1.80163870e+00,\n",
              "        4.63578223e-01, -1.06660004e+00, -6.48151838e-01, -5.67227172e-01,\n",
              "       -3.01038985e-01,  2.28623822e+00,  6.91775864e-01,  9.54457454e-01,\n",
              "       -3.44873021e-01, -1.16181802e+00,  2.45242364e-01,  6.37623668e-01,\n",
              "        1.01233300e+00,  7.94370645e-01, -8.18492345e-01, -1.26476271e-01,\n",
              "        1.43360535e+00,  6.73309938e-01, -2.15061883e-01,  1.53691599e+00,\n",
              "       -2.64237079e-01, -6.35712508e-01, -1.11016900e-02, -3.17481433e-01,\n",
              "       -5.45777200e-01, -1.02442044e+00, -7.69706426e-01, -2.38597328e-01,\n",
              "        6.95640619e-01,  1.56563129e+00, -9.77955108e-01, -1.38083102e+00,\n",
              "       -3.62727651e-03,  3.50435857e+00,  3.25498599e-01,  7.01329880e-01,\n",
              "        2.94387146e-01,  1.88232920e+00, -1.09902613e+00, -4.19276653e-01,\n",
              "       -2.08361142e+00,  4.31498051e-01,  8.99814417e-01,  5.89349722e-01,\n",
              "       -1.26010679e+00, -6.82234579e-01,  3.72207193e-01, -1.32196996e+00,\n",
              "       -6.29106560e-01,  2.03146808e+00, -5.40988142e-01,  4.22418238e-01,\n",
              "       -1.54657859e-01, -7.63407697e-01,  6.70193654e-01,  5.13779141e-01,\n",
              "       -1.75248561e-02,  1.04128550e+00, -6.70525426e-01, -1.61060443e-01,\n",
              "        1.39285164e+00, -8.14494148e-01, -3.21093418e-01,  2.02478084e+00,\n",
              "        1.33540010e+00, -3.04630022e-01,  1.88582861e-01,  2.18030282e-01,\n",
              "        1.50293463e+00,  1.07870625e+00,  8.25536196e-02,  9.38424153e-02,\n",
              "       -1.52403935e+00,  4.95558943e-01,  1.16936137e+00,  1.76018812e+00,\n",
              "       -1.12807852e+00, -6.60012160e-01,  6.12223893e-01, -7.51597178e-01,\n",
              "       -1.05168896e+00,  1.49695814e+00, -5.64726647e-01,  1.03329644e-01,\n",
              "       -4.53633426e-01, -1.04220381e+00, -6.46062669e-01, -1.03110726e-01,\n",
              "       -1.29678763e-01, -1.63507914e+00, -1.00540327e+00,  9.73508851e-01,\n",
              "        1.19501368e+00,  6.30949575e-01, -7.68862577e-02,  7.08805488e-01,\n",
              "        8.32598508e-01, -1.12418060e+00, -2.89227693e-01, -3.56693935e-01,\n",
              "       -6.52443516e-01,  6.28581071e-01, -9.04774806e-02, -4.40455971e-01,\n",
              "       -4.55635203e-01,  1.05309510e+00,  6.91529818e-02,  1.07321315e+00,\n",
              "       -1.14729150e+00,  2.13813729e+00, -4.23798790e-01,  2.77323009e-02,\n",
              "        2.93701606e-01,  8.27773912e-01, -5.57199485e-01,  5.28803691e-01,\n",
              "       -1.09674311e-01, -3.12389844e-01,  1.26444475e+00,  9.60483902e-02,\n",
              "       -1.42988921e-01,  1.36795369e+00,  3.32942452e-01,  9.88276867e-01,\n",
              "        2.25536695e-01,  1.85786964e-01,  1.23502933e-01, -9.54542189e-01,\n",
              "        1.85488163e-01, -2.70975387e+00,  1.69788134e+00, -1.15900370e+00,\n",
              "       -3.02487289e-01, -1.38905252e+00, -1.24624805e+00, -2.82791576e-01,\n",
              "        3.94514379e-01,  1.62567672e+00,  2.02161689e+00,  1.26603970e+00,\n",
              "        1.03192926e+00, -4.13598037e-01, -9.42842895e-02, -5.49849352e-01,\n",
              "       -1.59992726e+00,  9.75552576e-02, -7.76175170e-01,  1.34786686e+00,\n",
              "        4.72815461e-01,  4.13243116e-01,  2.10260230e+00,  2.42881742e-01,\n",
              "        1.73929630e-01,  2.81198985e-01, -1.08687250e+00,  6.03505564e-01,\n",
              "        3.39105973e-01,  1.65327785e+00, -1.32722292e+00,  1.21813978e+00])"
            ]
          },
          "metadata": {},
          "execution_count": 28
        }
      ]
    },
    {
      "cell_type": "code",
      "source": [
        "#9  Write a Python script to calculate covariance between two datasets.\n",
        "import numpy as np\n",
        "x = [1, 2, 3, 4, 5]\n",
        "y = [5, 4, 3, 2, 1]\n",
        "cov = np.cov(x, y)\n",
        "cov"
      ],
      "metadata": {
        "colab": {
          "base_uri": "https://localhost:8080/"
        },
        "id": "5xfLGrei6IuN",
        "outputId": "4d54b68c-0db8-4163-ce0d-f4499c3751f0"
      },
      "execution_count": 29,
      "outputs": [
        {
          "output_type": "execute_result",
          "data": {
            "text/plain": [
              "array([[ 2.5, -2.5],\n",
              "       [-2.5,  2.5]])"
            ]
          },
          "metadata": {},
          "execution_count": 29
        }
      ]
    },
    {
      "cell_type": "code",
      "source": [
        "#10 Write a Python script to calculate the correlation coefficient between two datasets.\n",
        "import numpy as np\n",
        "x = [1, 2, 3, 4, 5]\n",
        "y = [5, 4, 3, 2, 1]\n",
        "corr = np.corrcoef(x, y)\n",
        "corr"
      ],
      "metadata": {
        "colab": {
          "base_uri": "https://localhost:8080/"
        },
        "id": "9izQ3NLr6P6_",
        "outputId": "caeaa7c1-1b3e-42ca-81f9-8ae708eddb85"
      },
      "execution_count": 30,
      "outputs": [
        {
          "output_type": "execute_result",
          "data": {
            "text/plain": [
              "array([[ 1., -1.],\n",
              "       [-1.,  1.]])"
            ]
          },
          "metadata": {},
          "execution_count": 30
        }
      ]
    },
    {
      "cell_type": "code",
      "source": [
        "#11. Create a scatter plot to visualize the relationship between two variables.\n",
        "import matplotlib.pyplot as plt\n",
        "x = [1, 2, 3, 4, 5]\n",
        "y = [5, 4, 3, 2, 1]\n",
        "plt.scatter(x, y)\n",
        "plt.show()"
      ],
      "metadata": {
        "colab": {
          "base_uri": "https://localhost:8080/",
          "height": 430
        },
        "id": "DRLtMsd56XyX",
        "outputId": "7e6857e5-fc3d-4f8f-fbb7-4b617dd9576a"
      },
      "execution_count": 31,
      "outputs": [
        {
          "output_type": "display_data",
          "data": {
            "text/plain": [
              "<Figure size 640x480 with 1 Axes>"
            ],
            "image/png": "[encoded data removed]"
          },
          "metadata": {}
        }
      ]
    },
    {
      "cell_type": "code",
      "source": [
        "#12 Implement and compare simple random sampling and systematic sampling.\n",
        "import random\n",
        "def random_sampling(data, sample_size):\n",
        "    return random.sample(data, sample_size)"
      ],
      "metadata": {
        "id": "0xruAyEd6gHu"
      },
      "execution_count": 32,
      "outputs": []
    },
    {
      "cell_type": "code",
      "source": [
        "#13  Calculate the mean, median, and mode of grouped data.\n",
        "data = [2, 3, 4, 5, 8, 9, 12, 40, 41, 15]\n",
        "data\n",
        "\n"
      ],
      "metadata": {
        "colab": {
          "base_uri": "https://localhost:8080/"
        },
        "id": "R7AzPN9p8sEy",
        "outputId": "72c500b6-4601-4bd5-d9e2-04133b367839"
      },
      "execution_count": 33,
      "outputs": [
        {
          "output_type": "execute_result",
          "data": {
            "text/plain": [
              "[2, 3, 4, 5, 8, 9, 12, 40, 41, 15]"
            ]
          },
          "metadata": {},
          "execution_count": 33
        }
      ]
    },
    {
      "cell_type": "code",
      "source": [
        "#14 Simulate data using Python and calculate its central tendency and dispersion.\n",
        "data = [2, 3, 4, 5, 8, 9, 12, 40, 41, 15]\n",
        "data"
      ],
      "metadata": {
        "colab": {
          "base_uri": "https://localhost:8080/"
        },
        "id": "YhLcMElf80Yi",
        "outputId": "52fc2b74-bddc-403c-ae62-de00826e0e0d"
      },
      "execution_count": 34,
      "outputs": [
        {
          "output_type": "execute_result",
          "data": {
            "text/plain": [
              "[2, 3, 4, 5, 8, 9, 12, 40, 41, 15]"
            ]
          },
          "metadata": {},
          "execution_count": 34
        }
      ]
    },
    {
      "cell_type": "code",
      "source": [
        "# central tendency\n",
        "np.mean(data)"
      ],
      "metadata": {
        "colab": {
          "base_uri": "https://localhost:8080/"
        },
        "id": "A_IS67KmF-rO",
        "outputId": "1e36763a-6479-4cd0-b3f6-dd96493c28ae"
      },
      "execution_count": 36,
      "outputs": [
        {
          "output_type": "execute_result",
          "data": {
            "text/plain": [
              "np.float64(13.9)"
            ]
          },
          "metadata": {},
          "execution_count": 36
        }
      ]
    },
    {
      "cell_type": "code",
      "source": [
        "# dispersion using range\n",
        "range = max(data) - min(data)\n",
        "range"
      ],
      "metadata": {
        "colab": {
          "base_uri": "https://localhost:8080/"
        },
        "id": "O4iuphO3GqtH",
        "outputId": "8b1f7a2b-ad8d-4944-fc10-72fcf6e24fb1"
      },
      "execution_count": 37,
      "outputs": [
        {
          "output_type": "execute_result",
          "data": {
            "text/plain": [
              "39"
            ]
          },
          "metadata": {},
          "execution_count": 37
        }
      ]
    },
    {
      "cell_type": "code",
      "source": [
        "# 15 Use NumPy or pandas to summarize a dataset’s descriptive statistics.\n",
        "import numpy as np\n",
        "import pandas as pd\n",
        "data = [2, 3, 4, 5, 8, 9, 12, 40, 41, 15]\n",
        "data\n",
        "\n"
      ],
      "metadata": {
        "colab": {
          "base_uri": "https://localhost:8080/"
        },
        "id": "eQeB1TSk85tj",
        "outputId": "5cefd7a3-5298-4ed2-baff-67b2f86c7b4b"
      },
      "execution_count": 38,
      "outputs": [
        {
          "output_type": "execute_result",
          "data": {
            "text/plain": [
              "[2, 3, 4, 5, 8, 9, 12, 40, 41, 15]"
            ]
          },
          "metadata": {},
          "execution_count": 38
        }
      ]
    },
    {
      "cell_type": "code",
      "source": [
        "#16  Plot a boxplot to understand the spread and identify outliers.\n",
        "import seaborn as sns\n",
        "sns.boxplot(data) #upper fence>>Q3+1.5*IQR, lower fence = Q1-1.5*IQR\n"
      ],
      "metadata": {
        "colab": {
          "base_uri": "https://localhost:8080/",
          "height": 428
        },
        "id": "ZDeoHk1s8-RE",
        "outputId": "4d7da629-26cf-45f6-923c-36d39b4dd772"
      },
      "execution_count": 39,
      "outputs": [
        {
          "output_type": "execute_result",
          "data": {
            "text/plain": [
              "<Axes: >"
            ]
          },
          "metadata": {},
          "execution_count": 39
        },
        {
          "output_type": "display_data",
          "data": {
            "text/plain": [
              "<Figure size 640x480 with 1 Axes>"
            ],
            "image/png": "[encoded data removed]"
          },
          "metadata": {}
        }
      ]
    },
    {
      "cell_type": "code",
      "source": [
        "#17  Calculate the interquartile range (IQR) of a dataset.\n",
        "# Percentile\n",
        "import numpy as np\n",
        "np.percentile(data, [0, 25, 50, 75, 100])"
      ],
      "metadata": {
        "colab": {
          "base_uri": "https://localhost:8080/"
        },
        "id": "fEwmYWNo9DG2",
        "outputId": "cd5ec9e4-0f57-456e-b4a6-7cc162a734d8"
      },
      "execution_count": 40,
      "outputs": [
        {
          "output_type": "execute_result",
          "data": {
            "text/plain": [
              "array([ 2.  ,  4.25,  8.5 , 14.25, 41.  ])"
            ]
          },
          "metadata": {},
          "execution_count": 40
        }
      ]
    },
    {
      "cell_type": "code",
      "source": [
        "#IQR\n",
        "14.25-4.25"
      ],
      "metadata": {
        "colab": {
          "base_uri": "https://localhost:8080/"
        },
        "id": "HlRFUh2THc1Q",
        "outputId": "6db60fd4-ce9f-4ebf-eca3-c17f9b156899"
      },
      "execution_count": 41,
      "outputs": [
        {
          "output_type": "execute_result",
          "data": {
            "text/plain": [
              "10.0"
            ]
          },
          "metadata": {},
          "execution_count": 41
        }
      ]
    },
    {
      "cell_type": "code",
      "source": [
        "#18  Implement Z-score normalization and explain its significance.\n",
        "import numpy as np\n",
        "from sklearn.preprocessing import StandardScaler\n",
        "\n",
        "# Sample data\n",
        "data = np.array([10, 20, 30, 40, 50])\n",
        "\n",
        "# Calculate mean and standard deviation\n",
        "mean = np.mean(data)\n",
        "std_dev = np.std(data)\n",
        "\n",
        "# Z-score normalization using the formula\n",
        "z_scores = (data - mean) / std_dev\n",
        "print(\"Z-scores:\", z_scores)\n",
        "\n",
        "# Z-score normalization using scikit-learn\n",
        "scaler = StandardScaler()\n",
        "normalized_data = scaler.fit_transform(data.reshape(-1, 1))\n",
        "print(\"Normalized data (scikit-learn):\", normalized_data)"
      ],
      "metadata": {
        "colab": {
          "base_uri": "https://localhost:8080/"
        },
        "id": "Vap52UEz9Hlr",
        "outputId": "81e320a3-c2b0-4d0c-841b-18bdeac6c84f"
      },
      "execution_count": 42,
      "outputs": [
        {
          "output_type": "stream",
          "name": "stdout",
          "text": [
            "Z-scores: [-1.41421356 -0.70710678  0.          0.70710678  1.41421356]\n",
            "Normalized data (scikit-learn): [[-1.41421356]\n",
            " [-0.70710678]\n",
            " [ 0.        ]\n",
            " [ 0.70710678]\n",
            " [ 1.41421356]]\n"
          ]
        }
      ]
    },
    {
      "cell_type": "code",
      "source": [
        "#19  Compare two datasets using their standard deviations.\n",
        "import numpy as np\n",
        "data1 = [2, 3, 4, 5, 8, 9, 12, 40, 41, 15]\n",
        "data2 = [10, 20, 30, 40, 50]\n",
        "std_dev1 = np.std(data1)\n",
        "std_dev2 = np.std(data2)\n",
        "print(\"Standard deviation of data1:\", std_dev1)\n",
        "print(\"Standard deviation of data2:\", std_dev2)\n",
        "if std_dev1 > std_dev2:\n",
        "    print(\"Data1 has a higher standard deviation.\")\n",
        "elif std_dev1 < std_dev2:\n",
        "    print(\"Data2 has a higher standard deviation.\")\n",
        "else:\n",
        "    print(\"Both datasets have the same standard deviation.\")\n",
        "\n"
      ],
      "metadata": {
        "colab": {
          "base_uri": "https://localhost:8080/"
        },
        "id": "NnxA229-9Oxw",
        "outputId": "5922eb21-2407-458c-f952-23e55d464cb8"
      },
      "execution_count": 43,
      "outputs": [
        {
          "output_type": "stream",
          "name": "stdout",
          "text": [
            "Standard deviation of data1: 13.8452157801892\n",
            "Standard deviation of data2: 14.142135623730951\n",
            "Data2 has a higher standard deviation.\n"
          ]
        }
      ]
    },
    {
      "cell_type": "code",
      "source": [
        "#20 Write a Python program to visualize covariance using a heatmap.\n",
        "import numpy as np\n",
        "import seaborn as sns\n",
        "import matplotlib.pyplot as plt\n",
        "x = [1, 2, 3, 4, 5]\n",
        "y = [5, 4, 3, 2, 1]\n",
        "cov = np.cov(x, y)\n",
        "sns.heatmap(cov, annot=True, cmap=\"coolwarm\")\n",
        "plt.show()\n",
        "\n"
      ],
      "metadata": {
        "colab": {
          "base_uri": "https://localhost:8080/",
          "height": 430
        },
        "id": "q0u2IA9M9V5i",
        "outputId": "0fe22798-6c06-4360-a0f2-e949d5482933"
      },
      "execution_count": 44,
      "outputs": [
        {
          "output_type": "display_data",
          "data": {
            "text/plain": [
              "<Figure size 640x480 with 2 Axes>"
            ],
            "image/png": "[encoded data removed]"
          },
          "metadata": {}
        }
      ]
    },
    {
      "cell_type": "code",
      "source": [
        "#21 Use seaborn to create a correlation matrix for a dataset.\n",
        "import seaborn as sns\n",
        "import matplotlib.pyplot as plt\n",
        "data = {\"A\": [1, 2, 3, 4, 5], \"B\": [5, 4, 3, 2, 1]}\n",
        "df = pd.DataFrame(data)\n",
        "corr = df.corr()\n",
        "sns.heatmap(corr, annot=True, cmap=\"coolwarm\")\n",
        "plt.show()\n",
        "\n",
        "\n"
      ],
      "metadata": {
        "colab": {
          "base_uri": "https://localhost:8080/",
          "height": 435
        },
        "id": "_SRlHN_e9amY",
        "outputId": "8f66f13e-6cfc-489e-fc09-ae9bd77b8ca8"
      },
      "execution_count": 45,
      "outputs": [
        {
          "output_type": "display_data",
          "data": {
            "text/plain": [
              "<Figure size 640x480 with 2 Axes>"
            ],
            "image/png": "[encoded data removed]"
          },
          "metadata": {}
        }
      ]
    },
    {
      "cell_type": "code",
      "source": [
        "#22 Generate a dataset and implement both variance and standard deviation computations.\n",
        "data = [2, 3, 4, 5, 8, 9, 12, 40, 41, 15]\n",
        "data\n",
        "var = np.var(data)\n",
        "print(\"Variance:\", var)\n",
        "std_dev = np.std(data)\n",
        "print(\"Standard Deviation:\", std_dev)\n",
        "\n"
      ],
      "metadata": {
        "colab": {
          "base_uri": "https://localhost:8080/"
        },
        "id": "eA9tGxXA9g4I",
        "outputId": "01717e69-6c51-4bfb-8152-6a2d8e531afe"
      },
      "execution_count": 46,
      "outputs": [
        {
          "output_type": "stream",
          "name": "stdout",
          "text": [
            "Variance: 191.69000000000003\n",
            "Standard Deviation: 13.8452157801892\n"
          ]
        }
      ]
    },
    {
      "cell_type": "code",
      "source": [
        "#23 Visualize skewness and kurtosis using Python libraries like matplotlib or seaborn.\n",
        "import numpy as np\n",
        "import matplotlib.pyplot as plt\n",
        "import seaborn as sns\n",
        "from scipy.stats import skew, kurtosis\n",
        "data = np.random.normal(0, 1, 1000)\n",
        "sns.distplot(data, kde=False)\n",
        "plt.show()\n",
        "print(\"Skewness: \", skew(data))\n",
        "print(\"Kurtosis: \", kurtosis(data))\n",
        "\n"
      ],
      "metadata": {
        "colab": {
          "base_uri": "https://localhost:8080/",
          "height": 659
        },
        "id": "ltfsKnho9l8s",
        "outputId": "010fadbe-efe6-420f-8ffe-f373c728ee74"
      },
      "execution_count": 47,
      "outputs": [
        {
          "output_type": "stream",
          "name": "stderr",
          "text": [
            "<ipython-input-47-ee8e14a8f6f0>:7: UserWarning: \n",
            "\n",
            "`distplot` is a deprecated function and will be removed in seaborn v0.14.0.\n",
            "\n",
            "Please adapt your code to use either `displot` (a figure-level function with\n",
            "similar flexibility) or `histplot` (an axes-level function for histograms).\n",
            "\n",
            "For a guide to updating your code to use the new functions, please see\n",
            "https://gist.github.com/mwaskom/de44147ed2974457ad6372750bbe5751\n",
            "\n",
            "  sns.distplot(data, kde=False)\n"
          ]
        },
        {
          "output_type": "display_data",
          "data": {
            "text/plain": [
              "<Figure size 640x480 with 1 Axes>"
            ],
            "image/png": "[encoded data removed]"
          },
          "metadata": {}
        },
        {
          "output_type": "stream",
          "name": "stdout",
          "text": [
            "Skewness:  0.06387061827744754\n",
            "Kurtosis:  0.06588864734318634\n"
          ]
        }
      ]
    },
    {
      "cell_type": "code",
      "source": [
        "#24  Implement the Pearson and Spearman correlation coefficients for a dataset.\n",
        "import numpy as np\n",
        "from scipy.stats import pearsonr, spearmanr\n",
        "data1 = [1, 2, 3, 4, 5]\n",
        "data\n",
        "data2 = [5, 4, 3, 2, 1]\n",
        "pearson_corr, _ = pearsonr(data1, data2)\n",
        "spearman_corr, _ = spearmanr(data1, data2)\n",
        "print(\"Pearson correlation coefficient:\", pearson_corr)\n",
        "print(\"Spearman correlation coefficient:\", spearman_corr)\n",
        "\n"
      ],
      "metadata": {
        "colab": {
          "base_uri": "https://localhost:8080/"
        },
        "id": "6qMhn3AE9sPl",
        "outputId": "f5b6ff2d-c526-4b0e-ecbb-7b893f25d491"
      },
      "execution_count": 48,
      "outputs": [
        {
          "output_type": "stream",
          "name": "stdout",
          "text": [
            "Pearson correlation coefficient: -1.0\n",
            "Spearman correlation coefficient: -0.9999999999999999\n"
          ]
        }
      ]
    }
  ]
}